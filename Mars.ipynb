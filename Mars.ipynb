{
 "cells": [
  {
   "cell_type": "code",
   "execution_count": 1,
   "id": "64c0cb2e",
   "metadata": {},
   "outputs": [],
   "source": [
    "import requests\n",
    "import os\n",
    "from urllib.request import urlretrieve\n",
    "from PIL import Image\n",
    "\n",
    "url = \"https://api.nasa.gov/mars-photos/api/v1/rovers/curiosity/photos\"\n",
    "params = {\"api_key\": \"efnxfBSPzK6ZFfvXHmOmwnRWWvhhHs5M1GjgpNvQ\", \"earth_date\": \"2022-07-21\"}\n",
    "\n",
    "response = requests.get(url, params=params)\n",
    "data = response.json()\n",
    "\n",
    "try:\n",
    "    os.mkdir(\"Mars\")\n",
    "except: None\n",
    "\n",
    "count = 0  # счетчик загруженных и сохраненных фотографий\n",
    "for photo in data[\"photos\"]:\n",
    "    if count == 5:\n",
    "        break  # если загружено и сохранено 5 фотографий, выходим из цикла\n",
    "    urlretrieve(photo[\"img_src\"], f\"Mars/mars_photo_{count+1}.jpg\")\n",
    "    #img = Image.open(f\"Mars/mars_photo_{count+1}.jpg\")\n",
    "    #img.show()\n",
    "    count += 1"
   ]
  },
  {
   "cell_type": "code",
   "execution_count": null,
   "id": "9e2b548a",
   "metadata": {},
   "outputs": [],
   "source": []
  }
 ],
 "metadata": {
  "kernelspec": {
   "display_name": "Python 3 (ipykernel)",
   "language": "python",
   "name": "python3"
  },
  "language_info": {
   "codemirror_mode": {
    "name": "ipython",
    "version": 3
   },
   "file_extension": ".py",
   "mimetype": "text/x-python",
   "name": "python",
   "nbconvert_exporter": "python",
   "pygments_lexer": "ipython3",
   "version": "3.9.7"
  }
 },
 "nbformat": 4,
 "nbformat_minor": 5
}
